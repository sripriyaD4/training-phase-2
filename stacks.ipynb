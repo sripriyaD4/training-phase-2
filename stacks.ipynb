{
  "nbformat": 4,
  "nbformat_minor": 0,
  "metadata": {
    "colab": {
      "provenance": [],
      "toc_visible": true,
      "authorship_tag": "ABX9TyNci8fQmW71d5wWtHHu3uAu",
      "include_colab_link": true
    },
    "kernelspec": {
      "name": "python3",
      "display_name": "Python 3"
    },
    "language_info": {
      "name": "python"
    }
  },
  "cells": [
    {
      "cell_type": "markdown",
      "metadata": {
        "id": "view-in-github",
        "colab_type": "text"
      },
      "source": [
        "<a href=\"https://colab.research.google.com/github/sripriyaD4/training-phase-2/blob/main/stacks.ipynb\" target=\"_parent\"><img src=\"https://colab.research.google.com/assets/colab-badge.svg\" alt=\"Open In Colab\"/></a>"
      ]
    },
    {
      "cell_type": "code",
      "execution_count": 1,
      "metadata": {
        "id": "YB0flR8O096n"
      },
      "outputs": [],
      "source": []
    },
    {
      "cell_type": "markdown",
      "source": [
        "stack implementation using linked list"
      ],
      "metadata": {
        "id": "2vCC1ct72vtE"
      }
    },
    {
      "cell_type": "markdown",
      "source": [],
      "metadata": {
        "id": "XCj5v_Cs2nuL"
      }
    },
    {
      "cell_type": "code",
      "source": [
        "class Node:\n",
        "    def __init__(self,data):\n",
        "        self.data=data\n",
        "        self.next=None\n",
        "class Stack:\n",
        "    def __init__(self):\n",
        "        self.head=None\n",
        "    def isempty(self):\n",
        "        if self.head==None:\n",
        "            return True\n",
        "        else:\n",
        "            return False\n",
        "    def push(self,data):\n",
        "        if self.head==None:\n",
        "            self.head=Node(data)\n",
        "        else:\n",
        "            newnode=Node(data)\n",
        "            newnode.next=self.head\n",
        "            self.head=newnode\n",
        "    def pop(self):\n",
        "        if self.isempty():\n",
        "            return None\n",
        "        else:\n",
        "            poppednode=self.head\n",
        "            self.head=self.head.next\n",
        "            poppednode.next=None\n",
        "            return poppednode.data\n",
        "    def peek(self):\n",
        "        if self.isempty():\n",
        "            return None\n",
        "        else:\n",
        "            return self.head.data\n",
        "    def display(self):\n",
        "        t=self.head\n",
        "        if self.isempty():\n",
        "            print(\"stack underflow\")\n",
        "        else:\n",
        "            while(t!=None):\n",
        "                print(t.data,end=\"\")\n",
        "                t=t.next\n",
        "                if(t!=None):\n",
        "                    print(\"->\",end=\"\")\n",
        "            return\n",
        "if __name__==\"__main__\":\n",
        "    S=Stack()\n",
        "    S.push(1)\n",
        "    S.push(2)\n",
        "    S.push(3)\n",
        "    S.push(4)\n",
        "    S.display()\n",
        "    print(\"\")\n",
        "    print(\"peek\",S.peek())\n",
        "    S.pop()\n",
        "    S.pop()\n",
        "    S.display()"
      ],
      "metadata": {
        "colab": {
          "base_uri": "https://localhost:8080/"
        },
        "id": "fvZ8tPpN0-5N",
        "outputId": "8bb5bc84-cf47-476b-fc60-efd173849b67"
      },
      "execution_count": 2,
      "outputs": [
        {
          "output_type": "stream",
          "name": "stdout",
          "text": [
            "4->3->2->1\n",
            "peek 4\n",
            "2->1"
          ]
        }
      ]
    },
    {
      "cell_type": "markdown",
      "source": [
        "stack impementation using list"
      ],
      "metadata": {
        "id": "NPynDAo522_j"
      }
    },
    {
      "cell_type": "code",
      "source": [
        "stack=[]\n",
        "def push():\n",
        "    n=int(input(\"enter the element:\"))\n",
        "    stack.append(n)\n",
        "    print(stack)\n",
        "def pop():\n",
        "    if not stack:\n",
        "        print(\"stack is empty\")\n",
        "    else:\n",
        "        e=stack.pop()\n",
        "        print(\"removed element:\",e)\n",
        "        print(stack)\n",
        "while True:\n",
        "    print(\"select the choice 1.push 2.pop 3.quite\")\n",
        "    c=int(input())\n",
        "    if c==1:\n",
        "          push()\n",
        "    elif c==2:\n",
        "          pop()\n",
        "    elif c==3:\n",
        "          break\n",
        "    else:\n",
        "          print(\"enter correct option\")\n"
      ],
      "metadata": {
        "colab": {
          "base_uri": "https://localhost:8080/"
        },
        "id": "KTVYe8WO27jz",
        "outputId": "bd366405-6943-42f0-e607-47894e6aea41"
      },
      "execution_count": 3,
      "outputs": [
        {
          "name": "stdout",
          "output_type": "stream",
          "text": [
            "select the choice 1.push 2.pop 3.quite\n",
            "1\n",
            "enter the element:200\n",
            "[200]\n",
            "select the choice 1.push 2.pop 3.quite\n",
            "1\n",
            "enter the element:345\n",
            "[200, 345]\n",
            "select the choice 1.push 2.pop 3.quite\n",
            "1\n",
            "enter the element:243\n",
            "[200, 345, 243]\n",
            "select the choice 1.push 2.pop 3.quite\n",
            "2\n",
            "removed element: 243\n",
            "[200, 345]\n",
            "select the choice 1.push 2.pop 3.quite\n",
            "2\n",
            "removed element: 345\n",
            "[200]\n",
            "select the choice 1.push 2.pop 3.quite\n",
            "3\n"
          ]
        }
      ]
    },
    {
      "cell_type": "markdown",
      "source": [],
      "metadata": {
        "id": "1FVqFhXi2mAl"
      }
    }
  ]
}
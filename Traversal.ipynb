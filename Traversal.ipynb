{
  "nbformat": 4,
  "nbformat_minor": 0,
  "metadata": {
    "colab": {
      "provenance": [],
      "authorship_tag": "ABX9TyN9gD6cEvGLKQNFJ8G2pcOI",
      "include_colab_link": true
    },
    "kernelspec": {
      "name": "python3",
      "display_name": "Python 3"
    },
    "language_info": {
      "name": "python"
    }
  },
  "cells": [
    {
      "cell_type": "markdown",
      "metadata": {
        "id": "view-in-github",
        "colab_type": "text"
      },
      "source": [
        "<a href=\"https://colab.research.google.com/github/sripriyaD4/training-phase-2/blob/main/Traversal.ipynb\" target=\"_parent\"><img src=\"https://colab.research.google.com/assets/colab-badge.svg\" alt=\"Open In Colab\"/></a>"
      ]
    },
    {
      "cell_type": "code",
      "execution_count": 1,
      "metadata": {
        "colab": {
          "base_uri": "https://localhost:8080/"
        },
        "id": "aa_hc2wFAOW5",
        "outputId": "92d121f5-a77d-4834-f49a-1fa205ffee14"
      },
      "outputs": [
        {
          "output_type": "stream",
          "name": "stdout",
          "text": [
            "PRE-ORDER\n",
            "1 2 4 5 3 \n",
            "\n",
            "IN-ORDER\n",
            "4 2 5 1 3 \n",
            "\n",
            "POST-ORDER\n",
            "4 5 2 3 1 \n"
          ]
        }
      ],
      "source": [
        "class Node:\n",
        "  def __init__(self,key):\n",
        "    self.left=None\n",
        "    self.right=None\n",
        "    self.val=key\n",
        "def printInorder(root):\n",
        "  if root:\n",
        "    printInorder(root.left)\n",
        "    print(root.val,end=\" \")\n",
        "    printInorder(root.right)\n",
        "def printpostorder(root):\n",
        "  if root:\n",
        "    printpostorder(root.left)\n",
        "    printpostorder(root.right)\n",
        "    print(root.val,end=\" \")\n",
        "def printpreorder(root):\n",
        "  if root:\n",
        "    print(root.val,end=\" \")\n",
        "    printpreorder(root.left)\n",
        "    printpreorder(root.right)\n",
        "root=Node(1)\n",
        "root.left=Node(2)\n",
        "root.right=Node(3)\n",
        "root.left.left=Node(4)\n",
        "root.left.right=Node(5)\n",
        "print(\"PRE-ORDER\")\n",
        "printpreorder(root)\n",
        "print()\n",
        "print(\"\\nIN-ORDER\")\n",
        "printInorder(root)\n",
        "print()\n",
        "print(\"\\nPOST-ORDER\")\n",
        "printpostorder(root)\n",
        "print()"
      ]
    }
  ]
}
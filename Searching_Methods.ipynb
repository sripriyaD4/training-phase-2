{
  "nbformat": 4,
  "nbformat_minor": 0,
  "metadata": {
    "colab": {
      "provenance": [],
      "authorship_tag": "ABX9TyNqk85WuC6YZ7qmf6kIVy0/",
      "include_colab_link": true
    },
    "kernelspec": {
      "name": "python3",
      "display_name": "Python 3"
    },
    "language_info": {
      "name": "python"
    }
  },
  "cells": [
    {
      "cell_type": "markdown",
      "metadata": {
        "id": "view-in-github",
        "colab_type": "text"
      },
      "source": [
        "<a href=\"https://colab.research.google.com/github/sripriyaD4/training-phase-2/blob/main/Searching_Methods.ipynb\" target=\"_parent\"><img src=\"https://colab.research.google.com/assets/colab-badge.svg\" alt=\"Open In Colab\"/></a>"
      ]
    },
    {
      "cell_type": "markdown",
      "source": [
        "Linear Search"
      ],
      "metadata": {
        "id": "2xgfneo5s-7b"
      }
    },
    {
      "cell_type": "code",
      "execution_count": null,
      "metadata": {
        "colab": {
          "base_uri": "https://localhost:8080/"
        },
        "id": "VPyMvOEss9rV",
        "outputId": "d0cc261d-5124-4e52-9af7-d1eed8d7393d"
      },
      "outputs": [
        {
          "output_type": "stream",
          "name": "stdout",
          "text": [
            "Found it at position 3\n"
          ]
        }
      ],
      "source": [
        "pos=-1\n",
        "def search(list,n):\n",
        "    i=0\n",
        "    while i<len(list):\n",
        "        if list[i]==n:\n",
        "            globals()['pos']=i\n",
        "            return True\n",
        "        i=i+1\n",
        "    return False\n",
        "list=[100,40,20,10]\n",
        "n=20\n",
        "if search(list,n):\n",
        "    print(\"Found it at position\",pos+1)\n",
        "else:\n",
        "    print(\"not found\")\n"
      ]
    },
    {
      "cell_type": "markdown",
      "source": [
        "Binary Search"
      ],
      "metadata": {
        "id": "cPXBUr5UtMHP"
      }
    },
    {
      "cell_type": "code",
      "source": [
        "pos=-1\n",
        "def search(list,n):\n",
        "    l=0\n",
        "    u=len(list)-1\n",
        "    while l<=u:\n",
        "        mid=(l+u)//2\n",
        "        if(list[mid])==n:\n",
        "            globals()['pos']=mid\n",
        "            return True\n",
        "        else:\n",
        "            if list[mid]<n:\n",
        "                l=mid+1\n",
        "            else:\n",
        "                u=mid-1\n",
        "    return False\n",
        "list=[5,10,15,100]\n",
        "n=167\n",
        "if search(list,n):\n",
        "    print(\"Found it at position:\",pos+1)\n",
        "else:\n",
        "    print(\"element not found\")\n"
      ],
      "metadata": {
        "colab": {
          "base_uri": "https://localhost:8080/"
        },
        "id": "j4lmsVY2tRY3",
        "outputId": "540735d8-d2bb-4e19-ac86-65c05761733d"
      },
      "execution_count": null,
      "outputs": [
        {
          "output_type": "stream",
          "name": "stdout",
          "text": [
            "element not found\n"
          ]
        }
      ]
    },
    {
      "cell_type": "markdown",
      "source": [
        "Jump Search"
      ],
      "metadata": {
        "id": "L4hpyArlyvNy"
      }
    },
    {
      "cell_type": "code",
      "source": [
        "import math\n",
        "def jumpsearch(arr,x,n):\n",
        "  #finding block size to be jumped\n",
        "  step=math.sqrt(n)\n",
        "  prev=0\n",
        "  a=arr[int(min(step,n)-1)]\n",
        "  print(\"a\",a)\n",
        "  while arr[int(min(step,n)-1)]<x:\n",
        "    prev=step\n",
        "    step+=math.sqrt(n)\n",
        "    if prev >=n:\n",
        "      return -1\n",
        "  while arr[int(prev)]<x:\n",
        "    prev+=1\n",
        "    if prev==min(step,n):\n",
        "      return -1\n",
        "  if arr[int(prev)]==x:\n",
        "    return prev\n",
        "  return -1\n",
        "arr=[0,1,1,2,4,5,9,13,21,34,55,89,144,300,377,710]\n",
        "x=55\n",
        "n=len(arr)\n",
        "index=jumpsearch(arr,x,n)\n",
        "print(\"Number\",x,\"is at index\",\"%.0f\" %index)"
      ],
      "metadata": {
        "colab": {
          "base_uri": "https://localhost:8080/"
        },
        "id": "O6Xr7AHAuPSx",
        "outputId": "fc6c3aa1-ba5e-4697-bf61-4ca16aa164e7"
      },
      "execution_count": 10,
      "outputs": [
        {
          "output_type": "stream",
          "name": "stdout",
          "text": [
            "a 2\n",
            "Number 55 is at index 10\n"
          ]
        }
      ]
    }
  ]
}
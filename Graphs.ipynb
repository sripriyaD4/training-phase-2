{
  "nbformat": 4,
  "nbformat_minor": 0,
  "metadata": {
    "colab": {
      "provenance": [],
      "authorship_tag": "ABX9TyOLEKsMhIqX1NVcBbIT+JMp",
      "include_colab_link": true
    },
    "kernelspec": {
      "name": "python3",
      "display_name": "Python 3"
    },
    "language_info": {
      "name": "python"
    }
  },
  "cells": [
    {
      "cell_type": "markdown",
      "metadata": {
        "id": "view-in-github",
        "colab_type": "text"
      },
      "source": [
        "<a href=\"https://colab.research.google.com/github/sripriyaD4/training-phase-2/blob/main/Graphs.ipynb\" target=\"_parent\"><img src=\"https://colab.research.google.com/assets/colab-badge.svg\" alt=\"Open In Colab\"/></a>"
      ]
    },
    {
      "cell_type": "code",
      "execution_count": 1,
      "metadata": {
        "colab": {
          "base_uri": "https://localhost:8080/"
        },
        "id": "tkVsuEUk3hkV",
        "outputId": "1c07c55a-4aee-47b9-b1d0-4a33e84b0f5a"
      },
      "outputs": [
        {
          "output_type": "stream",
          "name": "stdout",
          "text": [
            "[('a', 'c'), ('b', 'c'), ('b', 'e'), ('c', 'd'), ('c', 'e'), ('c', 'a'), ('c', 'b'), ('d', 'c'), ('e', 'b'), ('e', 'c')]\n"
          ]
        }
      ],
      "source": [
        "#import dictionary from graph\n",
        "from collections import defaultdict\n",
        "#add edge to graph function\n",
        "graph=defaultdict(list)\n",
        "def addEdge(graph,u,v):\n",
        "  graph[u].append(v)\n",
        "#function description\n",
        "def generate_edges(graph):\n",
        "  edges=[]\n",
        "  #for each in graph\n",
        "  for node in graph:\n",
        "    #for each neighbour node of a single node\n",
        "    for neighbour in graph[node]:\n",
        "      #if edge exist then append\n",
        "      edges.append((node,neighbour))\n",
        "  return edges\n",
        "addEdge(graph,'a','c')\n",
        "addEdge(graph,'b','c')\n",
        "addEdge(graph,'b','e')\n",
        "addEdge(graph,'c','d')\n",
        "addEdge(graph,'c','e')\n",
        "addEdge(graph,'c','a')\n",
        "addEdge(graph,'c','b')\n",
        "addEdge(graph,'d','c')\n",
        "addEdge(graph,'e','b')\n",
        "addEdge(graph,'e','c')\n",
        "print(generate_edges(graph))\n",
        "\n"
      ]
    }
  ]
}
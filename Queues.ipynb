{
  "nbformat": 4,
  "nbformat_minor": 0,
  "metadata": {
    "colab": {
      "provenance": [],
      "authorship_tag": "ABX9TyOnlsrBBPCTDP6XMw5VSr1F",
      "include_colab_link": true
    },
    "kernelspec": {
      "name": "python3",
      "display_name": "Python 3"
    },
    "language_info": {
      "name": "python"
    }
  },
  "cells": [
    {
      "cell_type": "markdown",
      "metadata": {
        "id": "view-in-github",
        "colab_type": "text"
      },
      "source": [
        "<a href=\"https://colab.research.google.com/github/sripriyaD4/training-phase-2/blob/main/Queues.ipynb\" target=\"_parent\"><img src=\"https://colab.research.google.com/assets/colab-badge.svg\" alt=\"Open In Colab\"/></a>"
      ]
    },
    {
      "cell_type": "markdown",
      "source": [
        "circular queue"
      ],
      "metadata": {
        "id": "vM1MB9Kz2cxe"
      }
    },
    {
      "cell_type": "code",
      "execution_count": null,
      "metadata": {
        "colab": {
          "base_uri": "https://localhost:8080/"
        },
        "id": "91LFJB4B2WDT",
        "outputId": "d62bfa4a-5253-46b2-8566-5a0787f6b6b5"
      },
      "outputs": [
        {
          "output_type": "stream",
          "name": "stdout",
          "text": [
            "Elements in the Circular Queue14 22 13 -5 \n",
            "Deleted value= 14\n",
            "Deleted value= 22\n",
            "Elements in the Circular Queue13 -5 \n",
            "Elements in the Circular Queue20 6 \n",
            "Queue is full\n"
          ]
        }
      ],
      "source": [
        "class CircularQueue:\n",
        "  def __init__(self,size):\n",
        "    self.size=size\n",
        "    self.queue=[None for i in range(size)]\n",
        "    self.front=self.rear=-1\n",
        "  def enqueue(self,data):\n",
        "    if((self.rear+1)%self.size==self.front):\n",
        "      print(\"Queue is full\")\n",
        "    elif(self.front==-1):\n",
        "      self.front=0\n",
        "      self.rear=0\n",
        "      self.queue[self.rear]=data\n",
        "    else:\n",
        "      self.rear=(self.rear+1)%self.size\n",
        "      self.queue[self.rear]=data\n",
        "  def dequeue(self):\n",
        "    if(self.front==-1):\n",
        "      print(\"Queue is empty\")\n",
        "    elif(self.front==self.rear):\n",
        "      temp=self.queue[self.front]\n",
        "      self.front=-1\n",
        "      self.rear=-1\n",
        "      return temp\n",
        "    else:\n",
        "      temp=self.queue[self.front]\n",
        "      self.front=(self.front+1)%self.size\n",
        "      return temp\n",
        "  def display(self):\n",
        "    if(self.front==-1):\n",
        "      print(\"Queue is empty\")\n",
        "    elif(self.rear>=self.front):\n",
        "      print(\"Elements in the Circular Queue\",end=\"\")\n",
        "      for i in range(self.front,self.rear+1):\n",
        "        print(self.queue[i],end=\" \")\n",
        "      print()    \n",
        "    else:\n",
        "      print(\"Elements in the Circular Queue\",end=\"\")\n",
        "      for i in range(self.front,self.rear+1):\n",
        "        print(self.queue[i],end=\" \")\n",
        "      for i in range(0,self.rear+1):\n",
        "        print(self.queue[i],end=\" \")\n",
        "      print()\n",
        "    if((self.rear+1)%self.size==self.front):\n",
        "      print(\"Queue is full\")\n",
        "ob=CircularQueue(5)\n",
        "ob.enqueue(14)\n",
        "ob.enqueue(22)\n",
        "ob.enqueue(13)\n",
        "ob.enqueue(-5)\n",
        "ob.display()\n",
        "print(\"Deleted value=\",ob.dequeue())\n",
        "print(\"Deleted value=\",ob.dequeue())\n",
        "ob.display()\n",
        "ob.enqueue(9)\n",
        "ob.enqueue(20)\n",
        "ob.enqueue(6)\n",
        "ob.display()"
      ]
    }
  ]
}
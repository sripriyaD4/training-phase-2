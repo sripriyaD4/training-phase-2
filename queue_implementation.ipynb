{
  "nbformat": 4,
  "nbformat_minor": 0,
  "metadata": {
    "colab": {
      "provenance": [],
      "authorship_tag": "ABX9TyNdvM5XvI2KgjI3fu7mlzm1",
      "include_colab_link": true
    },
    "kernelspec": {
      "name": "python3",
      "display_name": "Python 3"
    },
    "language_info": {
      "name": "python"
    }
  },
  "cells": [
    {
      "cell_type": "markdown",
      "metadata": {
        "id": "view-in-github",
        "colab_type": "text"
      },
      "source": [
        "<a href=\"https://colab.research.google.com/github/sripriyaD4/training-phase-2/blob/main/queue_implementation.ipynb\" target=\"_parent\"><img src=\"https://colab.research.google.com/assets/colab-badge.svg\" alt=\"Open In Colab\"/></a>"
      ]
    },
    {
      "cell_type": "markdown",
      "source": [
        "queue implementation using list"
      ],
      "metadata": {
        "id": "bTtGXR-SC4oo"
      }
    },
    {
      "cell_type": "code",
      "source": [
        "queue=[]\n",
        "def enqueue():\n",
        "  n=input(\"enter element\")\n",
        "  queue.append(n)\n",
        "  print(n,\"is added in q\")\n",
        "def dequeue():\n",
        "  if not queue:\n",
        "    print(\"queue is empty\")\n",
        "  else:\n",
        "    e=queue.pop(0)\n",
        "    print(\"removed element\",e)\n",
        "def display():\n",
        "  print(queue)\n",
        "while True:\n",
        "  print(\"select operation 1.enqueue 2.dequeue 3.show 4.quit\")\n",
        "  c=int(input())\n",
        "  if c==1:\n",
        "    enqueue()\n",
        "  elif c==2:\n",
        "    dequeue()\n",
        "  elif c==3:\n",
        "    display()\n",
        "  elif c==4:\n",
        "    break\n",
        "  else:\n",
        "    print(\"choose the correct option\")"
      ],
      "metadata": {
        "colab": {
          "base_uri": "https://localhost:8080/"
        },
        "id": "A7kd0wXz-FuK",
        "outputId": "d28c92de-d82b-445f-b383-7bc35530508c"
      },
      "execution_count": null,
      "outputs": [
        {
          "name": "stdout",
          "output_type": "stream",
          "text": [
            "select operation 1.enqueue 2.dequeue 3.show 4.quit\n",
            "1\n",
            "enter element10\n",
            "10 is added in q\n",
            "select operation 1.enqueue 2.dequeue 3.show 4.quit\n",
            "2\n",
            "removed element 10\n",
            "select operation 1.enqueue 2.dequeue 3.show 4.quit\n",
            "1\n",
            "enter element10\n",
            "10 is added in q\n",
            "select operation 1.enqueue 2.dequeue 3.show 4.quit\n",
            "1\n",
            "enter element20\n",
            "20 is added in q\n",
            "select operation 1.enqueue 2.dequeue 3.show 4.quit\n",
            "1\n",
            "enter element30\n",
            "30 is added in q\n",
            "select operation 1.enqueue 2.dequeue 3.show 4.quit\n",
            "3\n",
            "['10', '20', '30']\n",
            "select operation 1.enqueue 2.dequeue 3.show 4.quit\n",
            "2\n",
            "removed element 10\n",
            "select operation 1.enqueue 2.dequeue 3.show 4.quit\n",
            "2\n",
            "removed element 20\n",
            "select operation 1.enqueue 2.dequeue 3.show 4.quit\n",
            "3\n",
            "['30']\n",
            "select operation 1.enqueue 2.dequeue 3.show 4.quit\n",
            "2\n",
            "removed element 30\n",
            "select operation 1.enqueue 2.dequeue 3.show 4.quit\n",
            "3\n",
            "[]\n",
            "select operation 1.enqueue 2.dequeue 3.show 4.quit\n",
            "4\n"
          ]
        }
      ]
    },
    {
      "cell_type": "markdown",
      "source": [
        "queue using queue module"
      ],
      "metadata": {
        "id": "XVMt6XOOCzCv"
      }
    },
    {
      "cell_type": "code",
      "source": [
        "import queue\n",
        "L=queue.Queue(maxsize=5)\n",
        "L.put(10)\n",
        "L.put(20)\n",
        "print(type(L))\n",
        "print(L.get())\n",
        "print(L.get())"
      ],
      "metadata": {
        "colab": {
          "base_uri": "https://localhost:8080/"
        },
        "id": "Am8MDhRFCMwg",
        "outputId": "6c03a3f4-7474-4e15-c1ab-dc89e79ee592"
      },
      "execution_count": null,
      "outputs": [
        {
          "output_type": "stream",
          "name": "stdout",
          "text": [
            "<class 'queue.Queue'>\n",
            "10\n",
            "20\n"
          ]
        }
      ]
    },
    {
      "cell_type": "markdown",
      "source": [
        "queue implementation using linked list"
      ],
      "metadata": {
        "id": "CaTn6wqJpPMv"
      }
    },
    {
      "cell_type": "code",
      "source": [
        "class Node:\n",
        "  def __init__(self,data):\n",
        "    self.data=data\n",
        "    self.next=None\n",
        "class queue:\n",
        "  def __init__(self):\n",
        "    self.head=None\n",
        "    self.last=None\n",
        "  def enqueue(self,data):\n",
        "    if self.last is None:\n",
        "      self.head=Node(data)\n",
        "      self.last=self.head\n",
        "    else:\n",
        "      self.last.next=Node(data)\n",
        "      self.last=self.last.next\n",
        "  def dequeue(self):\n",
        "    if self.head is None:\n",
        "      return None\n",
        "    else:\n",
        "      to_return=self.head.data\n",
        "      self.head=self.head.next\n",
        "      return to_return\n",
        "a_queue=queue()\n",
        "while True:\n",
        "  print(\"enqueue <value>\")\n",
        "  print(\"dequeue\")\n",
        "  print(\"quit\")\n",
        "  #by using split ,do will become a list,split\n",
        "  #works wiith string\n",
        "  do=input(\"what would you like to do?\").split()\n",
        "  operation=do[0].strip().lower()\n",
        "  if operation=='enqueue':\n",
        "    a_queue.enqueue(int(do[1]))\n",
        "  elif operation=='dequeue':\n",
        "    dequeued=a_queue.dequeue()\n",
        "    if dequeued is None:\n",
        "      print(\"Queue is empty\")\n",
        "    else:\n",
        "      print(\"dequeued element:\",int(dequeued))\n",
        "  elif operation==\"quite\":\n",
        "    break\n",
        "  else:\n",
        "    print(\"invalid \")"
      ],
      "metadata": {
        "colab": {
          "base_uri": "https://localhost:8080/"
        },
        "id": "fEvFRDHtpbB_",
        "outputId": "ebb378d9-e702-4162-cb10-eb15b43a5c0d"
      },
      "execution_count": null,
      "outputs": [
        {
          "name": "stdout",
          "output_type": "stream",
          "text": [
            "enqueue <value>\n",
            "dequeue\n",
            "quit\n",
            "what would you like to do?enqueue 200\n",
            "enqueue <value>\n",
            "dequeue\n",
            "quit\n",
            "what would you like to do?enqueue 300\n",
            "enqueue <value>\n",
            "dequeue\n",
            "quit\n",
            "what would you like to do?dequeue\n",
            "dequeued element: 200\n",
            "enqueue <value>\n",
            "dequeue\n",
            "quit\n",
            "what would you like to do?dequeue\n",
            "dequeued element: 300\n",
            "enqueue <value>\n",
            "dequeue\n",
            "quit\n",
            "what would you like to do?dequeue\n",
            "Queue is empty\n",
            "enqueue <value>\n",
            "dequeue\n",
            "quit\n",
            "what would you like to do?quit\n",
            "invalid \n",
            "enqueue <value>\n",
            "dequeue\n",
            "quit\n",
            "what would you like to do?quit\n",
            "invalid \n",
            "enqueue <value>\n",
            "dequeue\n",
            "quit\n",
            "what would you like to do?quite\n"
          ]
        }
      ]
    }
  ]
}
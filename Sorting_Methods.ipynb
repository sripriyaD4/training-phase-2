{
  "nbformat": 4,
  "nbformat_minor": 0,
  "metadata": {
    "colab": {
      "provenance": [],
      "authorship_tag": "ABX9TyM9SUJI4bqIYA1CgW4ORtNQ",
      "include_colab_link": true
    },
    "kernelspec": {
      "name": "python3",
      "display_name": "Python 3"
    },
    "language_info": {
      "name": "python"
    }
  },
  "cells": [
    {
      "cell_type": "markdown",
      "metadata": {
        "id": "view-in-github",
        "colab_type": "text"
      },
      "source": [
        "<a href=\"https://colab.research.google.com/github/sripriyaD4/training-phase-2/blob/main/Sorting_Methods.ipynb\" target=\"_parent\"><img src=\"https://colab.research.google.com/assets/colab-badge.svg\" alt=\"Open In Colab\"/></a>"
      ]
    },
    {
      "cell_type": "markdown",
      "source": [
        "Bubble Sort"
      ],
      "metadata": {
        "id": "h-M6qrlXx7o0"
      }
    },
    {
      "cell_type": "code",
      "execution_count": null,
      "metadata": {
        "colab": {
          "base_uri": "https://localhost:8080/"
        },
        "id": "79Y8V2WUxwzz",
        "outputId": "2b76a92f-8a5d-485a-98ce-6db9c2a5121f"
      },
      "outputs": [
        {
          "output_type": "stream",
          "name": "stdout",
          "text": [
            "i value:\n",
            "6\n",
            "0\n",
            "1\n",
            "2\n",
            "3\n",
            "4\n",
            "5\n",
            "i value:\n",
            "5\n",
            "0\n",
            "1\n",
            "2\n",
            "3\n",
            "4\n",
            "i value:\n",
            "4\n",
            "0\n",
            "1\n",
            "2\n",
            "3\n",
            "i value:\n",
            "3\n",
            "0\n",
            "1\n",
            "2\n",
            "i value:\n",
            "2\n",
            "0\n",
            "1\n",
            "i value:\n",
            "1\n",
            "0\n",
            "[-3, -2, 0, 5, 10, 30, 100]\n"
          ]
        }
      ],
      "source": [
        "def bubblesort(list):\n",
        "    #swap the elements araange in order\n",
        "    for i in range(len(list)-1,0,-1):#i:6,5,4,3,2,1\n",
        "        #y n minus and reverse bfs first pass last now don't touch that\n",
        "        print(\"i value:\")\n",
        "        print(i)\n",
        "        for j in range(i):\n",
        "            print(j)\n",
        "            if list[j]>list[j+1]:\n",
        "                temp=list[j]\n",
        "                list[j]=list[j+1]\n",
        "                list[j+1]=temp\n",
        "list=[10,5,-3,-2,0,100,30]\n",
        "bubblesort(list)\n",
        "print(list)\n"
      ]
    },
    {
      "cell_type": "markdown",
      "source": [
        "Insertion Sort"
      ],
      "metadata": {
        "id": "M6p7blMNx6xG"
      }
    },
    {
      "cell_type": "code",
      "source": [
        "def insertion(arr):\n",
        "  #Traverse through 1 to len(arr)\n",
        "  for i in range(1,len(arr)):\n",
        "    key=arr[i]\n",
        "    j=i-1\n",
        "    while j>=0 and key<arr[j]:\n",
        "      arr[j+1]=arr[j]\n",
        "      j-=1\n",
        "    arr[j+1]=key\n",
        "arr=[12,11,13,5,6]\n",
        "insertion(arr)\n",
        "print(\"Sorted array is:\")\n",
        "for i in range(len(arr)):\n",
        "  print(\"%d\"%arr[i])"
      ],
      "metadata": {
        "colab": {
          "base_uri": "https://localhost:8080/"
        },
        "id": "7mOqqWEMyBF3",
        "outputId": "10558eb1-bc65-47a6-9abe-dc56f81908a1"
      },
      "execution_count": null,
      "outputs": [
        {
          "output_type": "stream",
          "name": "stdout",
          "text": [
            "Sorted array is:\n",
            "5\n",
            "6\n",
            "11\n",
            "12\n",
            "13\n"
          ]
        }
      ]
    },
    {
      "cell_type": "markdown",
      "source": [
        "Selection Sort"
      ],
      "metadata": {
        "id": "zxuD52cH2_Dv"
      }
    },
    {
      "cell_type": "code",
      "source": [
        "b=[]\n",
        "def ss(a):\n",
        "  k=0\n",
        "  for i in range(0,len(a)):\n",
        "    k=min(a)\n",
        "    b.append(k)\n",
        "    a.remove(k)\n",
        "a=[5,2,98,34,25,67,56]\n",
        "ss(a)\n",
        "print(b)"
      ],
      "metadata": {
        "colab": {
          "base_uri": "https://localhost:8080/"
        },
        "id": "3olKRm5n3K4A",
        "outputId": "d7ff0ace-6e3a-46ee-e8e8-97b27ec482b4"
      },
      "execution_count": null,
      "outputs": [
        {
          "output_type": "stream",
          "name": "stdout",
          "text": [
            "[2, 5, 25, 34, 56, 67, 98]\n"
          ]
        }
      ]
    },
    {
      "cell_type": "code",
      "source": [
        "def selection_sort(alist):\n",
        "  for i in range(0,len(alist)-1):\n",
        "    smallest=i\n",
        "    for j in range(i+1,len(alist)):\n",
        "      if alist[j]<alist[smallest]:\n",
        "        smallest=j\n",
        "    alist[i],alist[smallest]=alist[smallest],alist[i]\n",
        "alist=input(\"Enter the list of Numbers:\").split()\n",
        "alist=[int(x) for x in alist]\n",
        "selection_sort(alist)\n",
        "print(\"Sorted List:\",end=\" \")\n",
        "print(alist)\n"
      ],
      "metadata": {
        "colab": {
          "base_uri": "https://localhost:8080/"
        },
        "id": "U73UGnmi4dV4",
        "outputId": "f1ea1647-392e-4449-f60d-cea8af428924"
      },
      "execution_count": null,
      "outputs": [
        {
          "output_type": "stream",
          "name": "stdout",
          "text": [
            "Enter the list of Numbers:70 23 56 34 2 -3 400 86\n",
            "Sorted List: [-3, 2, 23, 34, 56, 70, 86, 400]\n"
          ]
        }
      ]
    },
    {
      "cell_type": "markdown",
      "source": [
        "Merge Sort"
      ],
      "metadata": {
        "id": "lZJip0kpsXEj"
      }
    },
    {
      "cell_type": "code",
      "source": [
        "def merge_sort(unsorted_list):\n",
        "    if(len(unsorted_list)<=1):\n",
        "        return unsorted_list\n",
        "    middle=len(unsorted_list)//2\n",
        "    left_list=unsorted_list[:middle]\n",
        "    right_list=unsorted_list[middle:]\n",
        "    left_list=merge_sort(left_list)\n",
        "    right_list=merge_sort(right_list)\n",
        "    return list(merge(left_list,right_list))\n",
        "#merge the sorted halves\n",
        "def merge(left_half,right_half):\n",
        "    res=[]\n",
        "    while len(left_half)!=0 and len(right_half)!=0:\n",
        "        if left_half[0]<right_half[0]:\n",
        "            res.append(left_half[0])\n",
        "            left_half.remove(left_half[0])\n",
        "        else:\n",
        "            res.append(right_half[0])\n",
        "            right_half.remove(right_half[0])\n",
        "            \n",
        "    if len(left_half)==0:\n",
        "        res=res+right_half\n",
        "    else:\n",
        "        res=res+left_half\n",
        "    return res\n",
        "unsorted_list=[64,34,25,12,22,11,90]\n",
        "print(merge_sort(unsorted_list))\n",
        "unsorted_list=[10,-6,34,2,100]\n",
        "print(merge_sort(unsorted_list))"
      ],
      "metadata": {
        "colab": {
          "base_uri": "https://localhost:8080/"
        },
        "id": "GTcN3HhbsbHP",
        "outputId": "22d4fded-5044-4505-e2d8-e2380536d42a"
      },
      "execution_count": 1,
      "outputs": [
        {
          "output_type": "stream",
          "name": "stdout",
          "text": [
            "[11, 12, 22, 25, 34, 64, 90]\n",
            "[-6, 2, 10, 34, 100]\n"
          ]
        }
      ]
    },
    {
      "cell_type": "markdown",
      "source": [
        "Quick Sort"
      ],
      "metadata": {
        "id": "EmH2QHRssnHy"
      }
    },
    {
      "cell_type": "code",
      "source": [
        "def partition(arr,low,high):\n",
        "    i=(low-1)\n",
        "    pivot=arr[high]#pivot element\n",
        "    for j in range(low,high):\n",
        "        if arr[j]<=pivot:\n",
        "            i=i+1\n",
        "            arr[i],arr[j]=arr[j],arr[i]\n",
        "    arr[i+1],arr[high]=arr[high],arr[i+1]\n",
        "    return(i+1)\n",
        "def quicksort(arr,low,high):\n",
        "    if low<high:\n",
        "        pi=partition(arr,low,high)\n",
        "        quicksort(arr,low,pi-1)\n",
        "        quicksort(arr,pi+1,high)\n",
        "arr=[2,5,3,8,6,5,4,7]\n",
        "n=len(arr)\n",
        "quicksort(arr,0,n-1)\n",
        "print(\"sorted array is:\")\n",
        "for i in range(n):\n",
        "    print(arr[i],end=\" \")\n"
      ],
      "metadata": {
        "colab": {
          "base_uri": "https://localhost:8080/"
        },
        "id": "BO6SrOrSsps7",
        "outputId": "4e92b621-523f-47b5-a586-93acc6019fb4"
      },
      "execution_count": 2,
      "outputs": [
        {
          "output_type": "stream",
          "name": "stdout",
          "text": [
            "sorted array is:\n",
            "2 3 4 5 5 6 7 8 "
          ]
        }
      ]
    }
  ]
}
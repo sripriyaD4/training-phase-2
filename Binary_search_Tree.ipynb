{
  "nbformat": 4,
  "nbformat_minor": 0,
  "metadata": {
    "colab": {
      "provenance": [],
      "authorship_tag": "ABX9TyPHoV6f1KD6mbbYS0ts8Xva",
      "include_colab_link": true
    },
    "kernelspec": {
      "name": "python3",
      "display_name": "Python 3"
    },
    "language_info": {
      "name": "python"
    }
  },
  "cells": [
    {
      "cell_type": "markdown",
      "metadata": {
        "id": "view-in-github",
        "colab_type": "text"
      },
      "source": [
        "<a href=\"https://colab.research.google.com/github/sripriyaD4/training-phase-2/blob/main/Binary_search_Tree.ipynb\" target=\"_parent\"><img src=\"https://colab.research.google.com/assets/colab-badge.svg\" alt=\"Open In Colab\"/></a>"
      ]
    },
    {
      "cell_type": "markdown",
      "source": [
        "Binary search tree insertion and inorder"
      ],
      "metadata": {
        "id": "BW8V4Og5FVOv"
      }
    },
    {
      "cell_type": "code",
      "execution_count": null,
      "metadata": {
        "colab": {
          "base_uri": "https://localhost:8080/"
        },
        "id": "lVSsgtMYCHpG",
        "outputId": "d6abcc3d-4a06-4cc3-a35e-dad55f33f0fd"
      },
      "outputs": [
        {
          "output_type": "stream",
          "name": "stdout",
          "text": [
            "20\n",
            "30\n",
            "40\n",
            "50\n",
            "60\n",
            "70\n",
            "80\n"
          ]
        }
      ],
      "source": [
        "#BST-INSERT\n",
        "class Node:\n",
        "  def __init__(self,key):\n",
        "    self.left=None\n",
        "    self.right=None\n",
        "    self.val=key\n",
        "def insert(root,key):\n",
        "  if root is None:\n",
        "    return Node(key)\n",
        "  else:\n",
        "    if root.val==key:\n",
        "      return root\n",
        "    elif root.val<key:\n",
        "      root.right=insert(root.right,key)\n",
        "    else:\n",
        "      root.left=insert(root.left,key)\n",
        "  return root\n",
        "#Inorder-traversal\n",
        "def inorder(root):\n",
        "  if root:\n",
        "    inorder(root.left)\n",
        "    print(root.val)\n",
        "    inorder(root.right)\n",
        "r=Node(50)\n",
        "r=insert(r,30)\n",
        "r=insert(r,20)\n",
        "r=insert(r,40)\n",
        "r=insert(r,70)\n",
        "r=insert(r,60)\n",
        "r=insert(r,80)\n",
        "inorder(r)\n"
      ]
    },
    {
      "cell_type": "code",
      "source": [
        "class Node:\n",
        "  def __init__(self,key):\n",
        "    self.left=None\n",
        "    self.right=None\n",
        "    self.key=key\n",
        "def inorder(root):\n",
        "  if root is not None:\n",
        "    inorder(root.left)\n",
        "    print(root.key)\n",
        "    inorder(root.right)\n",
        "def insert(node,key):\n",
        "  if node is None:\n",
        "    return Node(key)\n",
        "  if key<node.key:\n",
        "    node.left=insert(node.left,key)\n",
        "  else:\n",
        "    node.right=insert(node.right,key)\n",
        "  return node\n",
        "def MinValueNode(node):\n",
        "  current=node\n",
        "  while(current.left is not None):\n",
        "    current=current.left\n",
        "  return current\n",
        "def deleteNode(root,key):\n",
        "  if root is None:\n",
        "    return root\n",
        "  if key<root.key:\n",
        "    root.left=deleteNode(root.left,key)\n",
        "  elif key>root.key:\n",
        "    root.right=deleteNode(root.right,key) \n",
        "  else:\n",
        "    if root.left is None:\n",
        "      temp=root.right\n",
        "      root=None\n",
        "      return temp\n",
        "    elif root.right is None:\n",
        "      temp=root.left\n",
        "      root=None\n",
        "      return temp\n",
        "    temp=MinValueNode(root.right)\n",
        "    root.key=temp.key\n",
        "    root.right=deleteNode(root.right,temp.key) \n",
        "  return root\n",
        "root=None\n",
        "root=insert(root,50)\n",
        "root=insert(root,30)\n",
        "root=insert(root,20)\n",
        "root=insert(root,40)\n",
        "root=insert(root,70)\n",
        "root=insert(root,60)\n",
        "root=insert(root,80)\n",
        "print(\"Inorder traversal of the given tree\")\n",
        "inorder(root)\n",
        "print(\"\\nDelete 20\")\n",
        "root=deleteNode(root,20)\n",
        "print(\"Inorder traversal of the modified tree\")\n",
        "inorder(root)\n",
        "print(\"\\nDelete 30\")\n",
        "root=deleteNode(root,30)\n",
        "print(\"Inorder traversal of the modified tree\")\n",
        "inorder(root)\n",
        "print(\"\\nDelete 50\")\n",
        "root=deleteNode(root,50)\n",
        "print(\"Inorder traversal of the modified tree\")\n",
        "inorder(root)\n"
      ],
      "metadata": {
        "colab": {
          "base_uri": "https://localhost:8080/"
        },
        "id": "_xKePEl2P70z",
        "outputId": "1bf596ba-884d-48df-ec03-583375a97d97"
      },
      "execution_count": null,
      "outputs": [
        {
          "output_type": "stream",
          "name": "stdout",
          "text": [
            "Inorder traversal of the given tree\n",
            "20\n",
            "30\n",
            "40\n",
            "50\n",
            "60\n",
            "70\n",
            "80\n",
            "\n",
            "Delete 20\n",
            "Inorder traversal of the modified tree\n",
            "30\n",
            "40\n",
            "50\n",
            "60\n",
            "70\n",
            "80\n",
            "\n",
            "Delete 30\n",
            "Inorder traversal of the modified tree\n",
            "40\n",
            "50\n",
            "60\n",
            "70\n",
            "80\n",
            "\n",
            "Delete 50\n",
            "Inorder traversal of the modified tree\n",
            "40\n",
            "60\n",
            "70\n",
            "80\n"
          ]
        }
      ]
    }
  ]
}
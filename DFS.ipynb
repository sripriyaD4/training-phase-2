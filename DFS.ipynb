{
  "nbformat": 4,
  "nbformat_minor": 0,
  "metadata": {
    "colab": {
      "provenance": [],
      "authorship_tag": "ABX9TyPdQMKKFZLJKYKWAdmH7di8",
      "include_colab_link": true
    },
    "kernelspec": {
      "name": "python3",
      "display_name": "Python 3"
    },
    "language_info": {
      "name": "python"
    }
  },
  "cells": [
    {
      "cell_type": "markdown",
      "metadata": {
        "id": "view-in-github",
        "colab_type": "text"
      },
      "source": [
        "<a href=\"https://colab.research.google.com/github/sripriyaD4/training-phase-2/blob/main/DFS.ipynb\" target=\"_parent\"><img src=\"https://colab.research.google.com/assets/colab-badge.svg\" alt=\"Open In Colab\"/></a>"
      ]
    },
    {
      "cell_type": "markdown",
      "source": [
        "DFS Traversal"
      ],
      "metadata": {
        "id": "8QYdm_jcAF1g"
      }
    },
    {
      "cell_type": "code",
      "execution_count": 1,
      "metadata": {
        "colab": {
          "base_uri": "https://localhost:8080/"
        },
        "id": "0GzPKCX2_9a-",
        "outputId": "987ac346-5b2f-4baa-897f-65d6a9e9cb9f"
      },
      "outputs": [
        {
          "output_type": "stream",
          "name": "stdout",
          "text": [
            "5\n",
            "3\n",
            "2\n",
            "4\n",
            "8\n",
            "7\n"
          ]
        }
      ],
      "source": [
        "graph={\n",
        "    '5':['3','7'],\n",
        "    '3':['2','4'],\n",
        "    '7':['8'],\n",
        "    '2':[],\n",
        "    '4':['8'],\n",
        "    '8':[]\n",
        "}\n",
        "visited=set()\n",
        "def dfs(visited,graph,node):\n",
        "     if node not in visited:\n",
        "         print(node)\n",
        "         visited.add(node)\n",
        "         for neighbour in graph[node]:\n",
        "             dfs(visited,graph,neighbour)\n",
        "dfs(visited,graph,'5')\n"
      ]
    }
  ]
}
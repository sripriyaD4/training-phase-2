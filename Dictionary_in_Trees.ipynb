{
  "nbformat": 4,
  "nbformat_minor": 0,
  "metadata": {
    "colab": {
      "provenance": [],
      "toc_visible": true,
      "authorship_tag": "ABX9TyO8cGDiy0gKKAqAU1qDEzJN",
      "include_colab_link": true
    },
    "kernelspec": {
      "name": "python3",
      "display_name": "Python 3"
    },
    "language_info": {
      "name": "python"
    }
  },
  "cells": [
    {
      "cell_type": "markdown",
      "metadata": {
        "id": "view-in-github",
        "colab_type": "text"
      },
      "source": [
        "<a href=\"https://colab.research.google.com/github/sripriyaD4/training-phase-2/blob/main/Dictionary_in_Trees.ipynb\" target=\"_parent\"><img src=\"https://colab.research.google.com/assets/colab-badge.svg\" alt=\"Open In Colab\"/></a>"
      ]
    },
    {
      "cell_type": "markdown",
      "source": [
        "dictionary (Forest of 3 trees)"
      ],
      "metadata": {
        "id": "jsFC00ld3F6d"
      }
    },
    {
      "cell_type": "code",
      "execution_count": null,
      "metadata": {
        "colab": {
          "base_uri": "https://localhost:8080/"
        },
        "id": "eTJ0d7RfyZSy",
        "outputId": "ea979918-aac2-42d0-8523-9ef6a704998b"
      },
      "outputs": [
        {
          "output_type": "stream",
          "name": "stdout",
          "text": [
            "charles has 2kids(s):\n",
            "sam,and nila\n",
            "devi has 3kids(s):\n",
            "tom,and timmy,and tammy\n",
            "carlos has 2kids(s):\n",
            "varun,and siree\n"
          ]
        }
      ],
      "source": [
        "Families={\n",
        "    'charles':\n",
        "              {'sam':{'boxy','rosy'},'nila':{'pepsi'}},\n",
        "    'devi':\n",
        "            {'tom':{'tony'},'timmy':{'hamster'},'tammy':{'hamster'}},\n",
        "    'carlos':\n",
        "             {'varun':'cat','siree':'forest'}\n",
        "     }\n",
        "for parent,children in Families.items():\n",
        "  print(f\"{parent} has {len(children)}kids(s):\")\n",
        "  print(f\"{',and '.join([str(child) for child in [*children]])}\")"
      ]
    }
  ]
}
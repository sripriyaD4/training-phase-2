{
  "nbformat": 4,
  "nbformat_minor": 0,
  "metadata": {
    "colab": {
      "provenance": [],
      "include_colab_link": true
    },
    "kernelspec": {
      "name": "python3",
      "display_name": "Python 3"
    },
    "language_info": {
      "name": "python"
    }
  },
  "cells": [
    {
      "cell_type": "markdown",
      "metadata": {
        "id": "view-in-github",
        "colab_type": "text"
      },
      "source": [
        "<a href=\"https://colab.research.google.com/github/sripriyaD4/training-phase-2/blob/main/SLL(deletion)%2CDLL.ipynb\" target=\"_parent\"><img src=\"https://colab.research.google.com/assets/colab-badge.svg\" alt=\"Open In Colab\"/></a>"
      ]
    },
    {
      "cell_type": "markdown",
      "source": [
        "----->**SLL INSERTION AT THE GIVEN POSITION**"
      ],
      "metadata": {
        "id": "XZnv-01SVU6i"
      }
    },
    {
      "cell_type": "code",
      "source": [
        "#SLL INSERTION AT THE GIVEN POSITION\n",
        "class Node:\n",
        "  def __init__(self,data):\n",
        "    self.data=data\n",
        "    self.next=None\n",
        "class singlelinkedlist:\n",
        "  def __init__(self):\n",
        "    self.head=None\n",
        "  def insert_position(self,pos,data):\n",
        "    nb=Node(data)\n",
        "    temp=self.head\n",
        "    for i in range(pos-1):\n",
        "      temp=temp.next\n",
        "    nb.next=temp.next\n",
        "    temp.next=nb  \n",
        "  def display(self):\n",
        "    if self.head is None:\n",
        "      print(\"LL is empty.\")\n",
        "    else:\n",
        "      temp=self.head\n",
        "      while(temp):\n",
        "        print(temp.data,\"-->\",end=\" \")\n",
        "        temp=temp.next\n",
        "obj=singlelinkedlist()\n",
        "n=Node(102)\n",
        "obj.head=n\n",
        "n1=Node(202)\n",
        "n.next=n1\n",
        "n2=Node(302)\n",
        "n1.next=n2\n",
        "n3=Node(402)\n",
        "n2.next=n3\n",
        "n4=Node(502)\n",
        "n3.next=n4\n",
        "print(\"Before Inerting :\")\n",
        "obj.display()\n",
        "print(\" \")\n",
        "print(\"After Inserting :\")\n",
        "obj.insert_position(2,270)\n",
        "obj.display()\n"
      ],
      "metadata": {
        "colab": {
          "base_uri": "https://localhost:8080/"
        },
        "id": "NbyQmuCkVh7g",
        "outputId": "d3e83dba-950f-4295-8161-30c4d57db905"
      },
      "execution_count": null,
      "outputs": [
        {
          "output_type": "stream",
          "name": "stdout",
          "text": [
            "Before Inerting :\n",
            "102 --> 202 --> 302 --> 402 --> 502 -->  \n",
            "After Inserting :\n",
            "102 --> 202 --> 270 --> 302 --> 402 --> 502 --> "
          ]
        }
      ]
    },
    {
      "cell_type": "markdown",
      "source": [],
      "metadata": {
        "id": "J7JZP7XCfe5C"
      }
    },
    {
      "cell_type": "markdown",
      "source": [
        "**2.DELETION**\n",
        "\n",
        "  * deleting new node at the beginning\n",
        "  * deleting new node at the end \n",
        "  * deleting newnode at the given position"
      ],
      "metadata": {
        "id": "E7vmwaJ-dBSo"
      }
    },
    {
      "cell_type": "markdown",
      "source": [
        "---->**SLL DELETION AT THE BEGINNING**"
      ],
      "metadata": {
        "id": "2k0nXANFm-gt"
      }
    },
    {
      "cell_type": "code",
      "source": [
        "#SLL DELETION AT THE BEGINNING\n",
        "class Node:\n",
        "  def __init__(self,data):\n",
        "    self.data=data\n",
        "    self.next=None\n",
        "class singlelinkedlist:\n",
        "  def __init__(self):\n",
        "    self.head=None  \n",
        "  def display(self):\n",
        "    if self.head is None:\n",
        "      print(\"LL is empty.\")\n",
        "    else:\n",
        "      temp=self.head\n",
        "      while(temp):\n",
        "        print(temp.data,\"-->\",end=\" \")\n",
        "        temp=temp.next\n",
        "  def delete(self):\n",
        "    temp=self.head\n",
        "    self.head=temp.next\n",
        "    temp.next=None\n",
        "obj=singlelinkedlist()\n",
        "n=Node(102)\n",
        "obj.head=n\n",
        "n1=Node(202)\n",
        "n.next=n1\n",
        "n2=Node(302)\n",
        "n1.next=n2\n",
        "n3=Node(402)\n",
        "n2.next=n3\n",
        "n4=Node(502)\n",
        "n3.next=n4\n",
        "print(\"Before Deletion :\")\n",
        "obj.display()\n",
        "print(\" \")\n",
        "print(\"After Deletion :\")\n",
        "obj.delete()\n",
        "obj.display()"
      ],
      "metadata": {
        "colab": {
          "base_uri": "https://localhost:8080/"
        },
        "id": "XQTVwO5Jd687",
        "outputId": "9f18a1e1-f424-4fcc-c9fb-cee6572fa4bf"
      },
      "execution_count": null,
      "outputs": [
        {
          "output_type": "stream",
          "name": "stdout",
          "text": [
            "Before Deletion :\n",
            "102 --> 202 --> 302 --> 402 --> 502 -->  \n",
            "After Deletion :\n",
            "202 --> 302 --> 402 --> 502 --> "
          ]
        }
      ]
    },
    {
      "cell_type": "markdown",
      "source": [
        "---->**SLL DELETION AT THE END**"
      ],
      "metadata": {
        "id": "YNaiNXwYgepo"
      }
    },
    {
      "cell_type": "code",
      "source": [
        "#SLL DELETION AT THE END\n",
        "class Node:\n",
        "  def __init__(self,data):\n",
        "    self.data=data\n",
        "    self.next=None\n",
        "class singlelinkedlist:\n",
        "  def __init__(self):\n",
        "    self.head=None  \n",
        "  def display(self):\n",
        "    if self.head is None:\n",
        "      print(\"LL is empty.\")\n",
        "    else:\n",
        "      temp=self.head\n",
        "      while(temp):\n",
        "        print(temp.data,\"-->\",end=\" \")\n",
        "        temp=temp.next\n",
        "  def delete(self):\n",
        "    temp=self.head.next\n",
        "    prev=self.head\n",
        "    while temp.next is not None:\n",
        "      temp=temp.next\n",
        "      prev=prev.next\n",
        "    prev.next=None   \n",
        "obj=singlelinkedlist()\n",
        "n=Node(102)\n",
        "obj.head=n\n",
        "n1=Node(202)\n",
        "n.next=n1\n",
        "n2=Node(302)\n",
        "n1.next=n2\n",
        "n3=Node(402)\n",
        "n2.next=n3\n",
        "n4=Node(502)\n",
        "n3.next=n4\n",
        "print(\"Before Deletion :\")\n",
        "obj.display()\n",
        "print(\" \")\n",
        "print(\"After Deletion :\")\n",
        "obj.delete()\n",
        "obj.display()\n"
      ],
      "metadata": {
        "colab": {
          "base_uri": "https://localhost:8080/"
        },
        "id": "dlgzzdP7gUAE",
        "outputId": "60a8c9c9-c78e-4ae2-a57e-1cfed8ab2117"
      },
      "execution_count": null,
      "outputs": [
        {
          "output_type": "stream",
          "name": "stdout",
          "text": [
            "Before Deletion :\n",
            "102 --> 202 --> 302 --> 402 --> 502 -->  \n",
            "After Deletion :\n",
            "102 --> 202 --> 302 --> 402 --> "
          ]
        }
      ]
    },
    {
      "cell_type": "markdown",
      "source": [
        "---->**SLL DELETION AT THE GIVEN POSITION**"
      ],
      "metadata": {
        "id": "HjnPJRxdlcJc"
      }
    },
    {
      "cell_type": "code",
      "source": [
        "#SLL DELETION AT THE GIVEN POSITION\n",
        "class Node:\n",
        "  def __init__(self,data):\n",
        "    self.data=data\n",
        "    self.next=None\n",
        "class singlelinkedlist:\n",
        "  def __init__(self):\n",
        "    self.head=None\n",
        "  def display(self):\n",
        "    if self.head is None:\n",
        "      print(\"LL is empty.\")\n",
        "    else:\n",
        "      temp=self.head\n",
        "      while(temp):\n",
        "        print(temp.data,\"-->\",end=\" \")\n",
        "        temp=temp.next\n",
        "  def delete_position(self,pos):\n",
        "    temp=self.head.next\n",
        "    prev=self.head\n",
        "    for i in range(1,pos-1):\n",
        "      temp=temp.next\n",
        "      prev=prev.next\n",
        "    prev.next=temp.next\n",
        "    temp.next=None\n",
        "obj=singlelinkedlist()\n",
        "n=Node(102)\n",
        "obj.head=n\n",
        "n1=Node(202)\n",
        "n.next=n1\n",
        "n2=Node(302)\n",
        "n1.next=n2\n",
        "n3=Node(402)\n",
        "n2.next=n3\n",
        "n4=Node(502)\n",
        "n3.next=n4\n",
        "print(\"Before Deletion :\")\n",
        "obj.display()\n",
        "print(\" \")\n",
        "print(\"After Deletion :\")\n",
        "obj.delete_position(3)\n",
        "obj.display()"
      ],
      "metadata": {
        "colab": {
          "base_uri": "https://localhost:8080/"
        },
        "id": "0KKqEeI1lcu0",
        "outputId": "c7ba8029-e383-4817-a972-f620cca639ce"
      },
      "execution_count": null,
      "outputs": [
        {
          "output_type": "stream",
          "name": "stdout",
          "text": [
            "Before Deletion :\n",
            "102 --> 202 --> 302 --> 402 --> 502 -->  \n",
            "After Deletion :\n",
            "102 --> 202 --> 402 --> 502 --> "
          ]
        }
      ]
    },
    {
      "cell_type": "markdown",
      "source": [
        "###**DOUBLE LINKED LIST**\n",
        "\n",
        "**1.IMPLEMENTATION**"
      ],
      "metadata": {
        "id": "7ijwvWxkrCee"
      }
    },
    {
      "cell_type": "code",
      "source": [
        "#DOUBLE LINKED LIST IMPLEMENTATION\n",
        "class Node:\n",
        "  def __init__(self,data):\n",
        "    self.data=data\n",
        "    self.previous=None\n",
        "    self.next=None\n",
        "class dll:\n",
        "  def __init__(self):\n",
        "    self.head=None\n",
        "  def display(self):\n",
        "    if self.head is None:\n",
        "      print(\"Empty\")\n",
        "    else:\n",
        "      temp=self.head\n",
        "      while(temp):\n",
        "        print(temp.data,\"<-->\",end=\" \")\n",
        "        temp=temp.next\n",
        "obj=dll()\n",
        "n1=Node(100)\n",
        "obj.head=n1\n",
        "n2=Node(200)\n",
        "n2.prev=n1\n",
        "n1.next=n2\n",
        "n3=Node(109)\n",
        "n3.prev=n2\n",
        "n2.next=n3\n",
        "print(\"DLL Created is:\")\n",
        "obj.display()"
      ],
      "metadata": {
        "colab": {
          "base_uri": "https://localhost:8080/"
        },
        "id": "pQIReo0DsWGF",
        "outputId": "4e371d69-6ead-4c93-ff8c-00ab67909331"
      },
      "execution_count": null,
      "outputs": [
        {
          "output_type": "stream",
          "name": "stdout",
          "text": [
            "DLL Created is:\n",
            "100 <--> 200 <--> 109 <--> "
          ]
        }
      ]
    },
    {
      "cell_type": "markdown",
      "source": [
        "###PUZZLE\n",
        "\n",
        "WRITE A PROGRAM TO GUESS A RANDOM NUMBER"
      ],
      "metadata": {
        "id": "BPWtfFWduErI"
      }
    },
    {
      "cell_type": "code",
      "source": [
        "#GUESSING A NUMBER\n",
        "import random\n",
        "n=random.randrange(1,100)\n",
        "guess=int(input(\"Guess a Number :\"))\n",
        "while n!=guess:\n",
        "  if guess<n:\n",
        "    print(\"Too low\")\n",
        "    guess=int(input(\"Enter guess number:\"))\n",
        "  elif guess>n:\n",
        "    print(\"Too high\")\n",
        "    guess=int(input(\"Enter New guess:\"))\n",
        "  else:\n",
        "    break\n",
        "print(\"You guessed right bro!!\",guess)"
      ],
      "metadata": {
        "id": "vLq0wV2huFKm",
        "colab": {
          "base_uri": "https://localhost:8080/"
        },
        "outputId": "0930fda8-c996-4d98-da29-b99570d9820e"
      },
      "execution_count": null,
      "outputs": [
        {
          "output_type": "stream",
          "name": "stdout",
          "text": [
            "Guess a Number :50\n",
            "Too high\n",
            "Enter New guess:40\n",
            "Too high\n",
            "Enter New guess:30\n",
            "Too high\n",
            "Enter New guess:20\n",
            "Too high\n",
            "Enter New guess:10\n",
            "You guessed right bro!! 10\n"
          ]
        }
      ]
    },
    {
      "cell_type": "markdown",
      "source": [
        "**2.INSERTION**\n",
        "\n",
        "\n",
        "* create a new node with 3 segments(prev,data,next)\n",
        "* new.next=head\n",
        "* head.previous=new\n",
        "* new.previous=null\n",
        "* head=newnode\n",
        "\n",
        "#####**INSERTION TYPES**\n",
        "\n",
        "1. Insertion at the beginning\n",
        "2. Insertion at the end\n",
        "3. Insetion at the given pposition\n"
      ],
      "metadata": {
        "id": "RJiBxI4uZirR"
      }
    },
    {
      "cell_type": "markdown",
      "source": [
        "--->**DOUBLE LINKEDLIST INSERTION IN THE BEGINNING**"
      ],
      "metadata": {
        "id": "aXdE9k8gSO4f"
      }
    },
    {
      "cell_type": "code",
      "source": [
        "#DOUBLE LINKED LIST INSERTION AT THE BEGINNING\n",
        "class Node:\n",
        "  def __init__(self,data):\n",
        "    self.data=data\n",
        "    self.previous=None\n",
        "    self.next=None\n",
        "class dll:\n",
        "  def __init__(self):\n",
        "    self.head=None\n",
        "  def insert_start(self):\n",
        "    n=Node(300)\n",
        "    temp=self.head\n",
        "    temp.prev=n\n",
        "    n.next=temp\n",
        "    self.head=n\n",
        "  def display(self):\n",
        "    if self.head is None:\n",
        "      print(\"Empty\")\n",
        "    else:\n",
        "      temp=self.head\n",
        "      while(temp):\n",
        "        print(temp.data,\"<-->\",end=\" \")\n",
        "        temp=temp.next\n",
        "obj=dll()\n",
        "n1=Node(100)\n",
        "obj.head=n1\n",
        "n2=Node(200)\n",
        "n2.prev=n1\n",
        "n1.next=n2\n",
        "print(\"DLL before insertion :\")\n",
        "obj.display()\n",
        "print(\"\\nDLL after insertion at the beginning:\")\n",
        "obj.insert_start()\n",
        "obj.display()"
      ],
      "metadata": {
        "colab": {
          "base_uri": "https://localhost:8080/"
        },
        "id": "z4qqbTjVSPV-",
        "outputId": "856bd206-ef0b-48cb-e7a6-0ba9a3b85da1"
      },
      "execution_count": null,
      "outputs": [
        {
          "output_type": "stream",
          "name": "stdout",
          "text": [
            "DLL before insertion :\n",
            "100 <--> 200 <--> \n",
            "DLL after insertion at the beginning:\n",
            "300 <--> 100 <--> 200 <--> "
          ]
        }
      ]
    },
    {
      "cell_type": "markdown",
      "source": [
        "---->**DOUBLE LINKEDLIST INSERTION AT THE END**"
      ],
      "metadata": {
        "id": "bgy-51JiV5pY"
      }
    },
    {
      "cell_type": "code",
      "source": [
        "#INSERTION AT THE END\n",
        "class Node:\n",
        "  def __init__(self,data):\n",
        "    self.data=data\n",
        "    self.previous=None\n",
        "    self.next=None\n",
        "class dll:\n",
        "  def __init__(self):\n",
        "    self.head=None\n",
        "  def insert_end(self):\n",
        "    n=Node(300)\n",
        "    temp=self.head\n",
        "    while temp.next is not None:\n",
        "      temp=temp.next\n",
        "    temp.next=n\n",
        "    n.prev=temp\n",
        "  def display(self):\n",
        "    if self.head is None:\n",
        "      print(\"Empty\")\n",
        "    else:\n",
        "      temp=self.head\n",
        "      while(temp):\n",
        "        print(temp.data,\"<-->\",end=\" \")\n",
        "        temp=temp.next\n",
        "obj=dll()\n",
        "n1=Node(100)\n",
        "obj.head=n1\n",
        "n2=Node(200)\n",
        "n2.prev=n1\n",
        "n1.next=n2\n",
        "n3=Node(109)\n",
        "n3.prev=n2\n",
        "n2.next=n3\n",
        "print(\"DLL before insertion :\")\n",
        "obj.display()\n",
        "print(\"\\nDLL after insertion at the end:\")\n",
        "obj.insert_end()\n",
        "obj.display()"
      ],
      "metadata": {
        "colab": {
          "base_uri": "https://localhost:8080/"
        },
        "id": "DUYcWKWlV5z_",
        "outputId": "90f54e3a-44fc-4193-8abb-a60d87d4d08d"
      },
      "execution_count": null,
      "outputs": [
        {
          "output_type": "stream",
          "name": "stdout",
          "text": [
            "DLL before insertion :\n",
            "100 <--> 200 <--> 109 <--> \n",
            "DLL after insertion at the end:\n",
            "100 <--> 200 <--> 109 <--> 300 <--> "
          ]
        }
      ]
    },
    {
      "cell_type": "markdown",
      "source": [
        "---->**DOUBLE LINKEDLIST AT THE GIVEN POSITION**"
      ],
      "metadata": {
        "id": "VKpPJVyyXrVx"
      }
    },
    {
      "cell_type": "code",
      "source": [
        "#INSERTION AT GIVEN POSITION\n",
        "class Node:\n",
        "  def __init__(self,data):\n",
        "    self.data=data\n",
        "    self.previous=None\n",
        "    self.next=None\n",
        "class dll:\n",
        "  def __init__(self):\n",
        "    self.head=None\n",
        "  def insert_pos(self,pos):\n",
        "    n=Node(300)\n",
        "    temp=self.head\n",
        "    for i in range(1,pos-1):\n",
        "      temp=temp.next\n",
        "    n.prev=temp.next\n",
        "    n.next=temp.next\n",
        "    temp.next.prev=n\n",
        "    temp.next=n\n",
        "    \n",
        "  def display(self):\n",
        "    if self.head is None:\n",
        "      print(\"Empty\")\n",
        "    else:\n",
        "      temp=self.head\n",
        "      while(temp):\n",
        "        print(temp.data,\"<-->\",end=\" \")\n",
        "        temp=temp.next\n",
        "obj=dll()\n",
        "n1=Node(100)\n",
        "obj.head=n1\n",
        "n2=Node(200)\n",
        "n2.prev=n1\n",
        "n1.next=n2\n",
        "n3=Node(109)\n",
        "n3.prev=n2\n",
        "n2.next=n3\n",
        "print(\"DLL before insertion :\")\n",
        "obj.display()\n",
        "print(\"\\nDLL after insertion at given position:\")\n",
        "obj.insert_pos(2)\n",
        "obj.display()"
      ],
      "metadata": {
        "colab": {
          "base_uri": "https://localhost:8080/"
        },
        "id": "qJh4gsw8Xrnw",
        "outputId": "7ff1044d-eb73-4c91-e436-e978b3c12cbf"
      },
      "execution_count": null,
      "outputs": [
        {
          "output_type": "stream",
          "name": "stdout",
          "text": [
            "DLL before insertion :\n",
            "100 <--> 200 <--> 109 <--> \n",
            "DLL after insertion at given position:\n",
            "100 <--> 300 <--> 200 <--> 109 <--> "
          ]
        }
      ]
    },
    {
      "cell_type": "markdown",
      "source": [
        "**3.DELETION**\n",
        "\n",
        "\n",
        "\n",
        "1. Deletion at the beginning\n",
        "2. Deletion at the end\n",
        "3. Deletion at the given pposition\n",
        "\n",
        "\n"
      ],
      "metadata": {
        "id": "nsMFdy22dREa"
      }
    },
    {
      "cell_type": "markdown",
      "source": [
        "--->**DOUBLE LINKEDLIST DELETION AT THE BEGINNING**\n",
        " \n",
        "*  temp=self.head\n",
        "*  temp.next.prev=null\n",
        "*  self.head=temp.next\n",
        "*  temp.next=null"
      ],
      "metadata": {
        "id": "PBoLOMF-d3FB"
      }
    },
    {
      "cell_type": "code",
      "source": [
        "#DOUBLE LINKEDLIST DELETION AT THE BEGINNING\n",
        "class Node:\n",
        "  def __init__(self,data):\n",
        "    self.data=data\n",
        "    self.previous=None\n",
        "    self.next=None\n",
        "class dll:\n",
        "  def __init__(self):\n",
        "    self.head=None\n",
        "  def delete_beginning(self):\n",
        "    temp=self.head\n",
        "    temp.next.prev=None\n",
        "    self.head=temp.next\n",
        "    temp.next=None\n",
        "  def display(self):\n",
        "    if self.head is None:\n",
        "      print(\"Empty\")\n",
        "    else:\n",
        "      temp=self.head\n",
        "      while(temp):\n",
        "        print(temp.data,\"<-->\",end=\" \")\n",
        "        temp=temp.next\n",
        "obj=dll()\n",
        "n1=Node(100)\n",
        "obj.head=n1\n",
        "n2=Node(200)\n",
        "n2.prev=n1\n",
        "n1.next=n2\n",
        "n3=Node(109)\n",
        "n3.prev=n2\n",
        "n2.next=n3\n",
        "print(\"DLL before deletion :\")\n",
        "obj.display()\n",
        "print(\"\\nDLL after deletion at the beginning:\")\n",
        "obj.delete_beginning()\n",
        "obj.display()\n"
      ],
      "metadata": {
        "colab": {
          "base_uri": "https://localhost:8080/"
        },
        "id": "pBMy_057dRNp",
        "outputId": "1d41709b-d476-4630-bd8b-0ed32dd084df"
      },
      "execution_count": null,
      "outputs": [
        {
          "output_type": "stream",
          "name": "stdout",
          "text": [
            "DLL before deletion :\n",
            "100 <--> 200 <--> 109 <--> \n",
            "DLL after deletion at the beginning:\n",
            "200 <--> 109 <--> "
          ]
        }
      ]
    },
    {
      "cell_type": "markdown",
      "source": [
        "**--->DOUBLE LINKEDLIST DELETION AT THE END**"
      ],
      "metadata": {
        "id": "-UGwnNKYiTzb"
      }
    },
    {
      "cell_type": "code",
      "source": [
        "#DOUBLE LINKEDLIST DELETION AT THE BEGINNING\n",
        "class Node:\n",
        "  def __init__(self,data):\n",
        "    self.data=data\n",
        "    self.previous=None\n",
        "    self.next=None\n",
        "class dll:\n",
        "  def __init__(self):\n",
        "    self.head=None\n",
        "  def delete_end(self):\n",
        "    temp=self.head\n",
        "    while temp.next is not None:\n",
        "      temp=temp.next\n",
        "      temp.next.prev=None\n",
        "      temp.next=None\n",
        "     \n",
        "  def display(self):\n",
        "    if self.head is None:\n",
        "      print(\"Empty\")\n",
        "    else:\n",
        "      temp=self.head\n",
        "      while(temp):\n",
        "        print(temp.data,\"<-->\",end=\" \")\n",
        "        temp=temp.next\n",
        "obj=dll()\n",
        "n1=Node(100)\n",
        "obj.head=n1\n",
        "n2=Node(200)\n",
        "n2.prev=n1\n",
        "n1.next=n2\n",
        "n3=Node(109)\n",
        "n3.prev=n2\n",
        "n2.next=n3\n",
        "print(\"DLL before deletion :\")\n",
        "obj.display()\n",
        "print(\"\\nDLL after deletion at the end:\")\n",
        "obj.delete_end()\n",
        "obj.display()\n"
      ],
      "metadata": {
        "colab": {
          "base_uri": "https://localhost:8080/"
        },
        "id": "45shvAPJia0c",
        "outputId": "863fac54-0388-49bd-edb0-3b1195629d75"
      },
      "execution_count": null,
      "outputs": [
        {
          "output_type": "stream",
          "name": "stdout",
          "text": [
            "DLL before deletion :\n",
            "100 <--> 200 <--> 109 <--> \n",
            "DLL after deletion at the end:\n",
            "100 <--> 200 <--> "
          ]
        }
      ]
    },
    {
      "cell_type": "markdown",
      "source": [
        "--->**DLL DELETION AT THE GIVEN POSITION**"
      ],
      "metadata": {
        "id": "-O7SgeF1BAGq"
      }
    },
    {
      "cell_type": "code",
      "source": [
        "#DLL DELETION AT THE GIVEN POSITION"
      ],
      "metadata": {
        "id": "t4351vaGEWYI"
      },
      "execution_count": null,
      "outputs": []
    },
    {
      "cell_type": "markdown",
      "source": [
        "###**CIRCULAR LINKEDLIST**"
      ],
      "metadata": {
        "id": "G4zhPmBeEcPQ"
      }
    },
    {
      "cell_type": "code",
      "source": [
        "#CIRCULAR LINKEDLIST\n",
        "class Node:\n",
        "  def __init__(self,data):\n",
        "    self.data=data\n",
        "    self.next=None\n",
        "class CreateList:\n",
        "  def __init__(self):\n",
        "    self.head=Node(None)\n",
        "    self.tail=Node(None)\n",
        "    self.head.next=self.tail\n",
        "    self.tail.next=self.head\n",
        "  def add(self,data):\n",
        "    newNode=Node(data)\n",
        "    if self.head is None:\n",
        "      self.head=newNode\n",
        "      self.tail=newNode\n",
        "      newNode.next=self.head\n",
        "    else:\n",
        "      self.tail.next=newNode\n",
        "      self.tail=newNode\n",
        "      self.tail.next=self.head\n",
        "  def display(self):\n",
        "    current=self.head\n",
        "    if self.head is None:\n",
        "      print(\"List is empty\")\n",
        "      return\n",
        "    else:\n",
        "      print(\"Nodes of the circular Linked list:\")\n",
        "      print(current.data,\"-->\")\n",
        "      while(current.next!=self.head):\n",
        "        current=current.next\n",
        "        print(current.data,\"-->\")\n",
        "class CircularLinkedList:\n",
        "  cl=CreateList()\n",
        "  cl.add(\"m\")\n",
        "  cl.add(\"o\")\n",
        "  cl.add(\"u\")\n",
        "  cl.add(\"u\")\n",
        "  cl.display()     "
      ],
      "metadata": {
        "colab": {
          "base_uri": "https://localhost:8080/"
        },
        "id": "jlHPtz5cBN87",
        "outputId": "c50f10cd-82af-4b3c-e97c-2b1aa1c2f946"
      },
      "execution_count": null,
      "outputs": [
        {
          "output_type": "stream",
          "name": "stdout",
          "text": [
            "Nodes of the circular Linked list:\n",
            "None -->\n",
            "None -->\n",
            "m -->\n",
            "o -->\n",
            "u -->\n",
            "u -->\n"
          ]
        }
      ]
    }
  ]
}
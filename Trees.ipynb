{
  "nbformat": 4,
  "nbformat_minor": 0,
  "metadata": {
    "colab": {
      "provenance": [],
      "authorship_tag": "ABX9TyMh1jmCcxr4dWdXuzMbAHR9",
      "include_colab_link": true
    },
    "kernelspec": {
      "name": "python3",
      "display_name": "Python 3"
    },
    "language_info": {
      "name": "python"
    }
  },
  "cells": [
    {
      "cell_type": "markdown",
      "metadata": {
        "id": "view-in-github",
        "colab_type": "text"
      },
      "source": [
        "<a href=\"https://colab.research.google.com/github/sripriyaD4/training-phase-2/blob/main/Trees.ipynb\" target=\"_parent\"><img src=\"https://colab.research.google.com/assets/colab-badge.svg\" alt=\"Open In Colab\"/></a>"
      ]
    },
    {
      "cell_type": "markdown",
      "source": [
        "Binary Tree"
      ],
      "metadata": {
        "id": "QjCrDmtNq_RF"
      }
    },
    {
      "cell_type": "code",
      "execution_count": 5,
      "metadata": {
        "colab": {
          "base_uri": "https://localhost:8080/"
        },
        "id": "fNVVQYnbpuoJ",
        "outputId": "8143e433-132a-40da-a4b6-bf5622f7ce53"
      },
      "outputs": [
        {
          "output_type": "stream",
          "name": "stdout",
          "text": [
            "Root Node is:\n",
            "50\n",
            "left child of the node is:\n",
            "20\n",
            "right child of the node is:\n",
            "45\n",
            "Node is:\n",
            "20\n",
            "left child of the node is:\n",
            "11\n",
            "right child of the node is:\n",
            "15\n",
            "Node is:\n",
            "45\n",
            "left child of the node is:\n",
            "30\n",
            "right child of the node is:\n",
            "78\n"
          ]
        }
      ],
      "source": [
        "class BinaryTreeNode:\n",
        "  def __init__(self,data):\n",
        "    self.data=data\n",
        "    self.leftchild=None\n",
        "    self.rightchild=None\n",
        "node1 = BinaryTreeNode(50)\n",
        "node2 = BinaryTreeNode(20)\n",
        "node3 = BinaryTreeNode(45)\n",
        "node4 = BinaryTreeNode(11)\n",
        "node5 = BinaryTreeNode(15)\n",
        "node6 = BinaryTreeNode(30)\n",
        "node7 = BinaryTreeNode(78)\n",
        "\n",
        "node1.leftchild  = node2\n",
        "node1.rightchild = node3\n",
        "node2.leftchild =  node4\n",
        "node2.rightchild = node5\n",
        "node3.leftchild =  node6\n",
        "node3.rightchild = node7\n",
        "\n",
        "print(\"Root Node is:\")\n",
        "print(node1.data)\n",
        "\n",
        "print(\"left child of the node is:\")\n",
        "print(node1.leftchild.data)\n",
        "\n",
        "print(\"right child of the node is:\")\n",
        "print(node1.rightchild.data)\n",
        "\n",
        "print(\"Node is:\")\n",
        "print(node2.data)\n",
        "\n",
        "print(\"left child of the node is:\")\n",
        "print(node2.leftchild.data)\n",
        "\n",
        "print(\"right child of the node is:\")\n",
        "print(node2.rightchild.data)\n",
        "\n",
        "print(\"Node is:\")\n",
        "print(node3.data)\n",
        "\n",
        "print(\"left child of the node is:\")\n",
        "print(node3.leftchild.data)\n",
        "\n",
        "print(\"right child of the node is:\")\n",
        "print(node3.rightchild.data)\n"
      ]
    },
    {
      "cell_type": "markdown",
      "source": [
        "Inorder Traversal Insertion of a binary tree"
      ],
      "metadata": {
        "id": "PMzrH5Fiw6SE"
      }
    },
    {
      "cell_type": "code",
      "source": [
        "class newNode:\n",
        "  def __init__(self,data):\n",
        "    self.key=data\n",
        "    self.left=None\n",
        "    self.right=None\n",
        "def inorder(temp):\n",
        "  if (not temp):\n",
        "    return\n",
        "  inorder(temp.left)\n",
        "  print(temp.key,end=\" \")\n",
        "  inorder(temp.right)\n",
        "def insert(temp,key):\n",
        "  if not temp:\n",
        "    root=newNode(key)\n",
        "    return\n",
        "  q=[]\n",
        "  q.append(temp)\n",
        "  print(type(q))\n",
        "  print(len(q))\n",
        "  \n",
        "  #do level order traversal until we find an empty space\n",
        "\n",
        "  while(len(q)):\n",
        "    print(len(q))\n",
        "    temp=q[0]\n",
        "    q.pop(0)\n",
        "\n",
        "    if (not temp.left):\n",
        "      temp.left=newNode(key)\n",
        "      break\n",
        "    else:\n",
        "      q.append(temp.left)\n",
        "    if (not temp.right):\n",
        "      temp.right=newNode(key)\n",
        "      break\n",
        "    else:\n",
        "      q.append(temp.right)\n",
        "if __name__=='__main__':\n",
        "  root=newNode(10)\n",
        "  root.left=newNode(11)\n",
        "  root.left.left=newNode(7)\n",
        "  root.right=newNode(9)\n",
        "  root.right.left=newNode(15)\n",
        "  root.right.right=newNode(8)\n",
        "  print(\"Inorder traversal before insertion:\",end=\" \")\n",
        "  inorder(root)\n",
        "  key=12\n",
        "  insert(root,key)\n",
        "  print()\n",
        "  print(\"Inorder traversal after insertion:\",end=\" \")\n",
        "  inorder(root)\n",
        " "
      ],
      "metadata": {
        "colab": {
          "base_uri": "https://localhost:8080/"
        },
        "id": "SFqOkM1iwWfK",
        "outputId": "8ab85fc4-bac0-481b-cfc6-ac30d4ed1fa1"
      },
      "execution_count": 18,
      "outputs": [
        {
          "output_type": "stream",
          "name": "stdout",
          "text": [
            "Inorder traversal before insertion: 7 11 10 15 9 8 <class 'list'>\n",
            "1\n",
            "1\n",
            "2\n",
            "\n",
            "Inorder traversal after insertion: 7 11 12 10 15 9 8 "
          ]
        }
      ]
    }
  ]
}